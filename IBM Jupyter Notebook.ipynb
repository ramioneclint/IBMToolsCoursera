{
 "cells": [
  {
   "cell_type": "markdown",
   "id": "483b171b",
   "metadata": {},
   "source": [
    "# My Jupyter Notebook on IBM Watson Studio"
   ]
  },
  {
   "cell_type": "markdown",
   "id": "9fd32117",
   "metadata": {},
   "source": [
    "<b>Ramione Clint Angelo Lazaga</b><br>\n",
    "Data Scientist"
   ]
  },
  {
   "cell_type": "markdown",
   "id": "9355df0a",
   "metadata": {},
   "source": [
    "<i>Data Science is interesting for me as I find understanding the world through pattern and repetition gives sense in this constantly changing life. Finding the pattern in a seemingly vast interconnected chaos brings unintelligible peace. </i>"
   ]
  },
  {
   "cell_type": "markdown",
   "id": "1bc1f242",
   "metadata": {},
   "source": [
    "### This will display my name"
   ]
  },
  {
   "cell_type": "code",
   "execution_count": 2,
   "id": "d5b2872d",
   "metadata": {},
   "outputs": [
    {
     "name": "stdout",
     "output_type": "stream",
     "text": [
      "Ramione Clint\n"
     ]
    }
   ],
   "source": [
    "print(\"Ramione Clint\")"
   ]
  },
  {
   "cell_type": "markdown",
   "id": "c87912ee",
   "metadata": {},
   "source": [
    "My favorite colors, in no particular order, are: <br>\n",
    "<ul>\n",
    "<li>Blue</li>\n",
    "<li>Brown</li>\n",
    "<li>Peach</li>\n",
    "</ul>\n",
    "<br>\n",
    "\n",
    "***\n",
    "<br>\n",
    "My favorite foods are:\n",
    "<ol>\n",
    "<li>Bread</li>\n",
    "<li>Chicken</li>\n",
    "<li>Milk</li>\n",
    "</ol>\n",
    "<br>\n",
    "\n"
   ]
  },
  {
   "cell_type": "code",
   "execution_count": null,
   "id": "00099b5a",
   "metadata": {},
   "outputs": [],
   "source": []
  }
 ],
 "metadata": {
  "kernelspec": {
   "display_name": "Python 3 (ipykernel)",
   "language": "python",
   "name": "python3"
  },
  "language_info": {
   "codemirror_mode": {
    "name": "ipython",
    "version": 3
   },
   "file_extension": ".py",
   "mimetype": "text/x-python",
   "name": "python",
   "nbconvert_exporter": "python",
   "pygments_lexer": "ipython3",
   "version": "3.9.7"
  }
 },
 "nbformat": 4,
 "nbformat_minor": 5
}
